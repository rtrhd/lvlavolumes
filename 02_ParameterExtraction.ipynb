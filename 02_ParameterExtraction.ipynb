{
 "cells": [
  {
   "cell_type": "markdown",
   "metadata": {},
   "source": [
    "## Extraction of Parameters from Volume Curves"
   ]
  },
  {
   "cell_type": "code",
   "execution_count": 1,
   "metadata": {
    "collapsed": false,
    "jupyter": {
     "outputs_hidden": false
    }
   },
   "outputs": [],
   "source": [
    "from __future__ import division, print_function\n",
    "\n",
    "%matplotlib inline\n",
    "import matplotlib.pyplot as plt\n",
    "import seaborn as sns\n",
    "import numpy as np\n",
    "import pandas as pd\n",
    "from scipy.signal import savgol_filter\n",
    "from scipy.interpolate import InterpolatedUnivariateSpline"
   ]
  },
  {
   "cell_type": "markdown",
   "metadata": {},
   "source": [
    "Read the data and construct a python dictionary from it indexed by participant number. Each entry will be a pandas dataframe with columns for LV and LA volumes and an index corresponding to the delay from trigger in milliseconds calculated by dividing the RR interval by the number of phases."
   ]
  },
  {
   "cell_type": "code",
   "execution_count": 2,
   "metadata": {},
   "outputs": [],
   "source": [
    "volumes = 'FullVolumes.xlsx'\n",
    "rrintervals = 'RRIntervals.xlsx'\n",
    "\n",
    "df_vols = pd.read_excel(volumes)\n",
    "df_rrintervals = pd.read_excel(rrintervals).reset_index(drop=True)\n",
    "df_rrintervals.index = ['RR']\n",
    "\n",
    "df_la = df_vols.filter(regex='LA-[0-9]{3,3}$')\n",
    "df_lv = df_vols.filter(regex='LV-[0-9]{3,3}$')\n",
    "df_times = df_rrintervals.filter(regex='LV-[0-9]{3,3}$').T\n",
    "\n",
    "nrows = df_la.count(axis=0)[0]\n",
    "df_times['dT'] = df_times['RR'] / nrows\n",
    "patients = {}\n",
    "for patno in [int(col[-3:]) for col in df_la]:\n",
    "    patients[patno] = pd.concat([\n",
    "        pd.Series(np.arange(nrows) * df_times['dT']['LV-%d' % patno], name='Time'),\n",
    "        df_lv['LV-%d' % patno],\n",
    "        df_la['LA-%d' % patno],\n",
    "    ], axis=1).set_index('Time')\n",
    "    patients[patno].columns = ('LV', 'LA')\n",
    "    patients[patno].pat_name = 'Patient %d' % patno"
   ]
  },
  {
   "cell_type": "markdown",
   "metadata": {},
   "source": [
    "Example Dataset"
   ]
  },
  {
   "cell_type": "code",
   "execution_count": 3,
   "metadata": {},
   "outputs": [],
   "source": [
    "patientno = 178"
   ]
  },
  {
   "cell_type": "markdown",
   "metadata": {},
   "source": [
    "Functions to calculate the LV parameters"
   ]
  },
  {
   "cell_type": "code",
   "execution_count": 4,
   "metadata": {},
   "outputs": [],
   "source": [
    "def lv_es_index(volumes):\n",
    "    return np.argmin(volumes)\n",
    "\n",
    "def lv_split_at_es(volumes):\n",
    "    es = lv_es_index(volumes)\n",
    "    return volumes[:es], volumes[es:]\n",
    "\n",
    "def lv_vol_at_es(volumes):\n",
    "    return volumes[lv_es_index(volumes)]\n",
    "\n",
    "def lv_vol_at_ss(volumes):\n",
    "    return volumes[0]\n",
    "\n",
    "def lv_vol_at_ed(volumes):\n",
    "    return volumes[-1]\n",
    "\n",
    "def idx_nearest(array, value, after=0):\n",
    "    return np.abs(array[after:]-value).argmin() + after\n",
    "\n",
    "def lv_idx_for_refill80_full(volumes, use_vss=True):\n",
    "    vss = lv_vol_at_ss(volumes)\n",
    "    ves = lv_vol_at_es(volumes)\n",
    "    ved = lv_vol_at_ed(volumes)\n",
    "    \n",
    "    fullvol = vss if use_vss else (vss + ved) / 2\n",
    "    emptyvol = ves\n",
    "    \n",
    "    eighty_vol = 0.2*emptyvol + 0.8*fullvol\n",
    "    return idx_nearest(volumes, value=eighty_vol, after=lv_es_index(volumes))\n",
    "\n",
    "def lv_idx_max_systolic_down_slope(volumes, slopes):\n",
    "    esi = lv_es_index(volumes)\n",
    "    systolic_down_slopes = -slopes[:esi]\n",
    "    return systolic_down_slopes.argmax()\n",
    "\n",
    "def lv_idx_max_recovery_slopes(volumes, slopes):\n",
    "    esi = lv_es_index(volumes)\n",
    "    # need to further split into early and late.\n",
    "    idx80 = lv_idx_for_refill80_full(volumes)\n",
    "    \n",
    "    diastolic_early_up_slopes = slopes[esi:idx80]\n",
    "    diastolic_late_up_slopes = slopes[idx80:]\n",
    "    idx_early = diastolic_early_up_slopes.argmax() + esi\n",
    "    idx_late = diastolic_late_up_slopes.argmax() + idx80\n",
    "    \n",
    "    return idx_early, idx_late"
   ]
  },
  {
   "cell_type": "markdown",
   "metadata": {},
   "source": [
    "Helper Functions for Plotting"
   ]
  },
  {
   "cell_type": "code",
   "execution_count": 5,
   "metadata": {},
   "outputs": [],
   "source": [
    "def plot_tangent(point, slope, xmargin=60, axes=None):\n",
    "    if axes is None:\n",
    "        fig, axes = plt.subplots()\n",
    "    x, y = point\n",
    "    y0 = y - x * slope\n",
    "    \n",
    "    xlower, xupper = x-xmargin, x+xmargin\n",
    "    ylower, yupper = y0 + xlower*slope, y0 + xupper*slope\n",
    "    \n",
    "    axes.plot([xlower, x, xupper], [ylower, y, yupper], linestyle='-', linewidth=1.5, marker='>', markersize=5)"
   ]
  },
  {
   "cell_type": "markdown",
   "metadata": {},
   "source": [
    "Report Parameters of Ventricular Curve"
   ]
  },
  {
   "cell_type": "code",
   "execution_count": 6,
   "metadata": {
    "collapsed": false,
    "jupyter": {
     "outputs_hidden": false
    }
   },
   "outputs": [],
   "source": [
    "def plot_lv_params(patient, region='LV'):\n",
    "    units, time_units = 'ml', 'ms'\n",
    "    patient_name = patient.pat_name\n",
    "    \n",
    "    volume_series = patient[region]\n",
    "    time = np.asarray(volume_series.index)\n",
    "    volume = np.asarray(volume_series.values) \n",
    "    diffs = np.gradient(volume) / np.diff(time)[0]\n",
    "    r_to_r = time[-1]\n",
    "    sg_volume     = savgol_filter(x=volume, window_length=5, polyorder=2, mode='interp')\n",
    "    dt_msecs      = np.mean(np.diff(time))\n",
    "    # one order higher for the derivative sounds right .. increase window to match\n",
    "    sg_derivative = savgol_filter(x=volume, window_length=7, polyorder=3, deriv=1, delta=dt_msecs)\n",
    "\n",
    "    spline = InterpolatedUnivariateSpline(time, sg_volume)\n",
    "    spline_deriv = InterpolatedUnivariateSpline(time, sg_derivative)\n",
    "\n",
    "    interpolated_time   = np.linspace(0, time[-1], len(time)*3)\n",
    "    interpolated_savgol = spline(interpolated_time)\n",
    "    interpolated_deriv  = spline_deriv(interpolated_time)\n",
    "\n",
    "    min_vol_index = lv_es_index(interpolated_savgol)\n",
    "    min_vol_time  = interpolated_time[min_vol_index]\n",
    "    min_volume    = interpolated_savgol[min_vol_index]\n",
    "    eighty_percent_idx = lv_idx_for_refill80_full(interpolated_savgol)\n",
    "    eighty_percent_time = interpolated_time[eighty_percent_idx]\n",
    "    eighty_percent_vol = interpolated_savgol[eighty_percent_idx]\n",
    "\n",
    "    max_emptying_index = lv_idx_max_systolic_down_slope(interpolated_savgol, interpolated_deriv)\n",
    "    max_emptying_time = interpolated_time[max_emptying_index]\n",
    "    max_emptying_vol = interpolated_savgol[max_emptying_index]\n",
    "    max_emptying_slope = interpolated_deriv[max_emptying_index]\n",
    "\n",
    "    max_early_filling_index, max_late_filling_index = lv_idx_max_recovery_slopes(interpolated_savgol, interpolated_deriv)\n",
    "    max_early_filling_time = interpolated_time[max_early_filling_index]\n",
    "    max_late_filling_time = interpolated_time[max_late_filling_index]\n",
    "\n",
    "    max_early_filling_vol = interpolated_savgol[max_early_filling_index]\n",
    "    max_late_filling_vol = interpolated_savgol[max_late_filling_index]\n",
    "\n",
    "    max_early_filling_slope = interpolated_deriv[max_early_filling_index]    \n",
    "    max_late_filling_slope = interpolated_deriv[max_late_filling_index]    \n",
    "    \n",
    "    fig, ax = plt.subplots(1, 2, figsize=(12, 4))\n",
    "    ax[0].plot(time, volume, '.')\n",
    "    ax[0].plot(interpolated_time, interpolated_savgol, '-')\n",
    "    ax[0].grid(True)\n",
    "    ax[0].set_xlabel('Delay from Trigger (%s)' % time_units)\n",
    "    ax[0].set_ylabel('Volume (%s)' % units)    \n",
    "    ax[0].scatter(\n",
    "        [max_emptying_time, min_vol_time, max_early_filling_time, eighty_percent_time, max_late_filling_time],\n",
    "        [max_emptying_vol, min_volume, max_early_filling_vol, eighty_percent_vol, max_late_filling_vol],\n",
    "        s=1250, marker='+'\n",
    "    )    \n",
    "    \n",
    "    plot_tangent((max_emptying_time, max_emptying_vol), slope=max_emptying_slope, axes=ax[0])\n",
    "    plot_tangent((max_early_filling_time, max_early_filling_vol), slope=max_early_filling_slope, axes=ax[0])\n",
    "    plot_tangent((max_late_filling_time, max_late_filling_vol), slope=max_late_filling_slope, axes=ax[0])\n",
    "\n",
    "    ax[1].plot(time, diffs, '.')\n",
    "    ax[1].plot(interpolated_time, interpolated_deriv, '-')\n",
    "    ax[1].scatter(\n",
    "        [max_emptying_time, max_early_filling_time, max_late_filling_time],\n",
    "        [max_emptying_slope, max_early_filling_slope, max_late_filling_slope],\n",
    "        s=1250, marker='+'\n",
    "    )\n",
    "    ax[1].grid(True)\n",
    "    ax[1].set_xlabel('Delay from Trigger (%s)' % time_units)\n",
    "    ax[1].set_ylabel('Filling Rate (%s)' % 'ml/ms')    \n",
    "    fig.suptitle('%s (%s Volume)' % (patient_name, region), fontsize=14)\n",
    "\n",
    "    plt.show()\n",
    "\n",
    "    print('R-R interval                   = %3.0f ms' % r_to_r)\n",
    "\n",
    "    print('Time of end systole            = %3.0f ms' % min_vol_time)\n",
    "    \n",
    "    print('Peak LV ejection rate          = %0.3f ml/sec' % (-1000 *max_emptying_slope))\n",
    "    print('Time of peak LV ejection       = %0.3f ms' % max_emptying_time)\n",
    "    print('Volume at peak LV ejection     = %0.3f ml' % max_emptying_vol)    \n",
    "\n",
    "    print('Early diastolic peak filling   = %0.3f ml/sec' % (1000 *max_early_filling_slope))\n",
    "    print('Time of peak after end systole = %0.3f ms' % (max_early_filling_time - min_vol_time))\n",
    "    print('Volume at early peak filling   = %0.3f ml' % max_early_filling_vol)\n",
    "\n",
    "    print('Late diastolic peak filling    = %0.3f ml/sec' % (1000 *max_late_filling_slope))\n",
    "    print('Time peak after end systole    = %0.3f ms' % (max_late_filling_time - min_vol_time))\n",
    "    print('Volume at late peak filling    = %0.3f ml' % max_late_filling_vol) \n",
    "    \n",
    "    print('Time of 80%% filling            = %3.0f ms' % eighty_percent_time)\n",
    "    print('Time after systole for 80%%     = %3.0f ms' % (eighty_percent_time - min_vol_time))\n",
    "    diastolic_time = r_to_r - min_vol_time\n",
    "    print('Filling time ratio (DVR80)     = %0.3f' % ((eighty_percent_time - min_vol_time)/diastolic_time))\n",
    "    \n"
   ]
  },
  {
   "cell_type": "code",
   "execution_count": 7,
   "metadata": {
    "collapsed": false,
    "jupyter": {
     "outputs_hidden": false
    }
   },
   "outputs": [
    {
     "data": {
      "image/png": "[encoded data removed]",
      "text/plain": [
       "<Figure size 864x288 with 2 Axes>"
      ]
     },
     "metadata": {
      "needs_background": "light"
     },
     "output_type": "display_data"
    },
    {
     "name": "stdout",
     "output_type": "stream",
     "text": [
      "R-R interval                   = 647 ms\n",
      "Time of end systole            = 245 ms\n",
      "Peak LV ejection rate          = 798.854 ml/sec\n",
      "Time of peak LV ejection       = 87.458 ms\n",
      "Volume at peak LV ejection     = 122.287 ml\n",
      "Early diastolic peak filling   = 523.507 ml/sec\n",
      "Time of peak after end systole = 113.696 ms\n",
      "Volume at early peak filling   = 88.669 ml\n",
      "Late diastolic peak filling    = 236.911 ml/sec\n",
      "Time peak after end systole    = 306.104 ms\n",
      "Volume at late peak filling    = 150.180 ml\n",
      "Time of 80% filling            = 507 ms\n",
      "Time after systole for 80%     = 262 ms\n",
      "Filling time ratio (DVR80)     = 0.652\n"
     ]
    }
   ],
   "source": [
    "plot_lv_params(patients[patientno])"
   ]
  },
  {
   "cell_type": "markdown",
   "metadata": {},
   "source": [
    "Report Parameters of Atrial Curve"
   ]
  },
  {
   "cell_type": "code",
   "execution_count": 8,
   "metadata": {},
   "outputs": [],
   "source": [
    "def la_es_index(volumes):\n",
    "    return np.argmax(volumes)\n",
    "\n",
    "def la_split_at_es(volumes):\n",
    "    es = la_es_index(volumes)\n",
    "    return volumes[:es], volumes[es:]\n",
    "\n",
    "def la_vol_at_es(volumes):\n",
    "    return volumes[la_es_index(volumes)]\n",
    "\n",
    "def la_vol_at_es(volumes, es):\n",
    "    return volumes[es]\n",
    "\n",
    "def la_vol_at_ss(volumes):\n",
    "    return volumes[0]\n",
    "\n",
    "def la_vol_at_ed(volumes):\n",
    "    return volumes[-1]\n",
    "\n",
    "def la_idx_max_systolic_up_slope(volumes, slopes):\n",
    "    esi = la_es_index(volumes)\n",
    "    systolic_down_slopes = slopes[:esi]\n",
    "    return systolic_down_slopes.argmax()\n",
    "\n",
    "def la_idx_max_emptying_slopes(volumes, slopes):\n",
    "    esi = la_es_index(volumes)\n",
    "\n",
    "    # need to further split into early and late.\n",
    "    idxsplit = esi + (len(volumes) - esi) // 2\n",
    "    \n",
    "    diastolic_early_up_slopes = -slopes[esi:idxsplit]\n",
    "    diastolic_late_up_slopes = -slopes[idxsplit:]\n",
    "    idx_early = diastolic_early_up_slopes.argmax() + esi\n",
    "    idx_late = diastolic_late_up_slopes.argmax() + idxsplit\n",
    "    \n",
    "    return idx_early, idx_late\n"
   ]
  },
  {
   "cell_type": "code",
   "execution_count": 9,
   "metadata": {},
   "outputs": [],
   "source": [
    "def plot_la_params(patient, region='LA'):\n",
    "    units, time_units = 'ml', 'ms'\n",
    "    patient_name = patient.pat_name\n",
    "    \n",
    "    volume_series = patient[region]\n",
    "    time = np.asarray(volume_series.index)\n",
    "    volume = np.asarray(volume_series.values) \n",
    "    diffs = np.gradient(volume) / np.diff(time)[0]\n",
    "    r_to_r = time[-1]\n",
    "    sg_volume     = savgol_filter(x=volume, window_length=5, polyorder=2, mode='interp')\n",
    "    dt_msecs      = np.mean(np.diff(time))\n",
    "    # one order higher for the derivative sounds right .. increase window to match\n",
    "    sg_derivative = savgol_filter(x=volume, window_length=7, polyorder=3, deriv=1, mode='interp', delta=dt_msecs)\n",
    "\n",
    "    spline = InterpolatedUnivariateSpline(time, sg_volume)\n",
    "    spline_deriv = InterpolatedUnivariateSpline(time, sg_derivative)\n",
    "\n",
    "    interpolated_time   = np.linspace(0, time[-1], len(time)*3)\n",
    "    interpolated_savgol = spline(interpolated_time)\n",
    "    interpolated_deriv  = spline_deriv(interpolated_time)\n",
    "\n",
    "    max_vol_index = la_es_index(interpolated_savgol)\n",
    "    max_vol_time  = interpolated_time[max_vol_index]\n",
    "    max_volume    = interpolated_savgol[max_vol_index]\n",
    "\n",
    "    max_filling_index = la_idx_max_systolic_up_slope(interpolated_savgol, interpolated_deriv)\n",
    "    max_filling_time = interpolated_time[max_filling_index]\n",
    "    max_filling_vol = interpolated_savgol[max_filling_index]\n",
    "    max_filling_slope = interpolated_deriv[max_filling_index]\n",
    "    \n",
    "    max_early_emptying_index, max_late_emptying_index = la_idx_max_emptying_slopes(interpolated_savgol, interpolated_deriv)\n",
    "\n",
    "    max_early_emptying_time = interpolated_time[max_early_emptying_index]\n",
    "    max_early_emptying_vol = interpolated_savgol[max_early_emptying_index]\n",
    "    max_early_emptying_slope = interpolated_deriv[max_early_emptying_index]    \n",
    "\n",
    "    max_late_emptying_time = interpolated_time[max_late_emptying_index]\n",
    "    max_late_emptying_vol = interpolated_savgol[max_late_emptying_index]\n",
    "    max_late_emptying_slope = interpolated_deriv[max_late_emptying_index]    \n",
    "\n",
    "    fig, ax = plt.subplots(1, 2, figsize=(12, 4))\n",
    "    ax[0].plot(time, volume, ls='None', marker='.')\n",
    "    ax[0].plot(interpolated_time, interpolated_savgol, '-')\n",
    "    ax[0].grid(True)\n",
    "    ax[0].set_xlabel('Delay from Trigger (%s)' % time_units)\n",
    "    ax[0].set_ylabel('Volume (%s)' % units)    \n",
    "    ax[0].scatter(\n",
    "        [max_filling_time, max_vol_time, max_early_emptying_time, max_late_emptying_time],\n",
    "        [max_filling_vol, max_volume, max_early_emptying_vol, max_late_emptying_vol],\n",
    "        s=1250, marker='+'\n",
    "    )    \n",
    "    plot_tangent((max_filling_time, max_filling_vol), slope=max_filling_slope, axes=ax[0])\n",
    "    plot_tangent((max_early_emptying_time, max_early_emptying_vol), slope=max_early_emptying_slope, axes=ax[0])\n",
    "    plot_tangent((max_late_emptying_time, max_late_emptying_vol), slope=max_late_emptying_slope, axes=ax[0])\n",
    "\n",
    "    \n",
    "    ax[1].plot(time, diffs, ls='None', marker='.')\n",
    "    ax[1].plot(interpolated_time, interpolated_deriv, '-')\n",
    "    ax[1].grid(True)\n",
    "    ax[1].scatter(\n",
    "        [max_filling_time, max_early_emptying_time, max_late_emptying_time],\n",
    "        [max_filling_slope, max_early_emptying_slope, max_late_emptying_slope],\n",
    "        s=1250, marker='+'\n",
    "    )\n",
    "    ax[1].set_xlabel('Delay from Trigger (%s)' % time_units)\n",
    "    ax[1].set_ylabel('dV/dt (%s)' % 'ml/ms')    \n",
    "    fig.suptitle('%s (%s Volume)' % (patient_name, region), fontsize=14)\n",
    "\n",
    "    plt.show()\n",
    "\n",
    "    print('R-R interval                   = %3.0f ms' % r_to_r)\n",
    "\n",
    "    print('Time of end systole            = %3.0f ms' % max_vol_time)\n",
    "\n",
    "    print('Peak LA filling rate           = %0.3f ml/sec' % (1000 *max_filling_slope))\n",
    "    print('Time of peak LA filling        = %0.3f ms' % max_filling_time)\n",
    "    print('Volume at peak LA filling      = %0.3f ml' % max_filling_vol)\n",
    "\n",
    "    print('Early atrial peak emptying     = %0.3f ml/sec' % (-1000 *max_early_emptying_slope))\n",
    "    print('Time of peak after end systole = %0.3f ms' % (max_early_emptying_time - max_vol_time))\n",
    "    print('Volume at early peak emptying  = %0.3f ml' % max_early_emptying_vol)\n",
    "\n",
    "    print('Late atrial peak emptying      = %0.3f ml/sec' % (-1000 *max_late_emptying_slope))\n",
    "    print('Time of peak after end systole = %0.3f ms' % (max_late_emptying_time - max_vol_time))\n",
    "    print('Volume at late peak emptying   = %0.3f ml' % max_late_emptying_vol)\n",
    "    "
   ]
  },
  {
   "cell_type": "code",
   "execution_count": 10,
   "metadata": {
    "collapsed": false,
    "jupyter": {
     "outputs_hidden": false
    }
   },
   "outputs": [
    {
     "data": {
      "image/png": "[encoded data removed]",
      "text/plain": [
       "<Figure size 864x288 with 2 Axes>"
      ]
     },
     "metadata": {
      "needs_background": "light"
     },
     "output_type": "display_data"
    },
    {
     "name": "stdout",
     "output_type": "stream",
     "text": [
      "R-R interval                   = 647 ms\n",
      "Time of end systole            = 289 ms\n",
      "Peak LA filling rate           = 178.907 ml/sec\n",
      "Time of peak LA filling        = 78.712 ms\n",
      "Volume at peak LA filling      = 37.777 ml\n",
      "Early atrial peak emptying     = 276.998 ml/sec\n",
      "Time of peak after end systole = 52.475 ms\n",
      "Volume at early peak emptying  = 47.865 ml\n",
      "Late atrial peak emptying      = 158.269 ml/sec\n",
      "Time of peak after end systole = 288.612 ms\n",
      "Volume at late peak emptying   = 31.811 ml\n"
     ]
    }
   ],
   "source": [
    "plot_la_params(patients[patientno])"
   ]
  },
  {
   "cell_type": "markdown",
   "metadata": {},
   "source": [
    "Note we are not getting the same time for end systole. It looks a little later on the LA curves. The 45ms may be the delay until the atrium starts to significantly offload into the ventricle (time for valves to open and ventricle to start relaxing?)\n",
    "\n",
    "It wasn't clear whether we should use the ES time from LV or LA when quoting times for the emptying phase of the LA. The time resolution is pretty poor anyway. This corresponds to a single point really.\n",
    "\n",
    "We'll use the times in the LA curve as above rather than trying to put the ES from the LV curve on the LA one."
   ]
  },
  {
   "cell_type": "markdown",
   "metadata": {},
   "source": [
    "Note that the maximum slopes in the LA curves are quite sensitive to the degree of filtering. We have chosen to increase the order by one in calculating the derivative and widened the window at the same time. It's not clear whether there is an entirely principled way to choose these smoothing parameters.\n",
    "\n",
    "There is also the issue of what volume we take to be the full one in the ventricular curve - the initial or final one. We have chosen the initial volume but have left open the possibility of using an average of the initial and final. This will effect the DVR(80%) time."
   ]
  },
  {
   "cell_type": "markdown",
   "metadata": {},
   "source": [
    "----"
   ]
  }
 ],
 "metadata": {
  "anaconda-cloud": {},
  "kernelspec": {
   "display_name": "Python 3",
   "language": "python",
   "name": "python3"
  },
  "language_info": {
   "codemirror_mode": {
    "name": "ipython",
    "version": 3
   },
   "file_extension": ".py",
   "mimetype": "text/x-python",
   "name": "python",
   "nbconvert_exporter": "python",
   "pygments_lexer": "ipython3",
   "version": "3.7.3"
  }
 },
 "nbformat": 4,
 "nbformat_minor": 4
}
