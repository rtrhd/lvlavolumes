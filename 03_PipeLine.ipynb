{
 "cells": [
  {
   "cell_type": "markdown",
   "metadata": {},
   "source": [
    "## Parameters for all Patients "
   ]
  },
  {
   "cell_type": "code",
   "execution_count": null,
   "metadata": {
    "collapsed": true
   },
   "outputs": [],
   "source": [
    "from __future__ import division, print_function\n",
    "\n",
    "%matplotlib inline\n",
    "import matplotlib.pyplot as plt\n",
    "import seaborn as sns\n",
    "import numpy as np\n",
    "import pandas as pd\n",
    "from collections import OrderedDict\n",
    "from scipy.signal import savgol_filter\n",
    "from scipy.interpolate import InterpolatedUnivariateSpline"
   ]
  },
  {
   "cell_type": "markdown",
   "metadata": {},
   "source": [
    "Massage spreadsheet data into a dictionary of patients indexed by integer participant number and with each entry a dataframe with LA and LV volumes indexed as time from trigger in millisecs.\n",
    "\n",
    "There is also a dataframe of RR and frame intervals intervals indexed on participant number."
   ]
  },
  {
   "cell_type": "code",
   "execution_count": null,
   "metadata": {
    "collapsed": false
   },
   "outputs": [],
   "source": [
    "volumes = 'FullVolumes.xlsx'\n",
    "rrintervals = 'RRIntervals.xlsx'\n",
    "\n",
    "df_vols = pd.read_excel(volumes)\n",
    "df_rrintervals = pd.read_excel(rrintervals).reset_index(drop=True)\n",
    "df_rrintervals.index = ['RR_ms']\n",
    "\n",
    "df_la = df_vols.filter(regex='LA-[0-9]{3,3}$')\n",
    "df_lv = df_vols.filter(regex='LV-[0-9]{3,3}$')\n",
    "\n",
    "# map index to integers\n",
    "df_times = df_rrintervals.filter(regex='LV-[0-9]{3,3}$').T\n",
    "df_times['PN'] = [int(i[-3:]) for i in df_times.index]\n",
    "df_times = df_times.set_index('PN')\n",
    "\n",
    "nrows = df_la.count(axis=0)[0]\n",
    "df_times['Frame_interval_ms'] = df_times['RR_ms'] / nrows\n",
    "patients = {}\n",
    "for patno in [int(col[-3:]) for col in df_la]:\n",
    "    patients[patno] = pd.concat([\n",
    "        pd.Series(np.arange(nrows) * df_times['Frame_interval_ms'][patno], name='Time'),\n",
    "        df_lv['LV-%d' % patno],\n",
    "        df_la['LA-%d' % patno],\n",
    "    ], axis=1).set_index('Time')\n",
    "    patients[patno].columns = ('LV', 'LA')\n",
    "    patients[patno].pat_name = 'Patient %d' % patno"
   ]
  },
  {
   "cell_type": "markdown",
   "metadata": {},
   "source": [
    "Parameters of Interest. Work on numpy arrays of volumes without the frame rate so all time values are indices ie in 'frames' rather than millisecs."
   ]
  },
  {
   "cell_type": "code",
   "execution_count": null,
   "metadata": {
    "collapsed": true
   },
   "outputs": [],
   "source": [
    "def lv_es_index(volumes):\n",
    "    return np.argmin(volumes)\n",
    "\n",
    "def lv_split_at_es(volumes):\n",
    "    es = lv_es_index(volumes)\n",
    "    return volumes[:es], volumes[es:]\n",
    "\n",
    "def lv_vol_at_es(volumes):\n",
    "    return volumes[lv_es_index(volumes)]\n",
    "\n",
    "def lv_vol_at_ss(volumes):\n",
    "    return volumes[0]\n",
    "\n",
    "def lv_vol_at_ed(volumes):\n",
    "    return volumes[-1]\n",
    "\n",
    "def idx_nearest(array, value, after=0):\n",
    "    return np.abs(array[after:]-value).argmin() + after\n",
    "\n",
    "def lv_idx_for_refill80_full(volumes, use_vss=True):\n",
    "    vss = lv_vol_at_ss(volumes)\n",
    "    ves = lv_vol_at_es(volumes)\n",
    "    ved = lv_vol_at_ed(volumes)\n",
    "    \n",
    "    fullvol = vss if use_vss else (vss + ved) / 2\n",
    "    emptyvol = ves\n",
    "    \n",
    "    eighty_vol = 0.2*emptyvol + 0.8*fullvol\n",
    "    return idx_nearest(volumes, value=eighty_vol, after=lv_es_index(volumes))\n",
    "\n",
    "def lv_idx_max_systolic_down_slope(volumes, slopes):\n",
    "    esi = lv_es_index(volumes)\n",
    "    systolic_down_slopes = -slopes[:esi]\n",
    "    return systolic_down_slopes.argmax()\n",
    "\n",
    "def lv_idx_max_recovery_slopes(volumes, slopes):\n",
    "    esi = lv_es_index(volumes)\n",
    "    # need to further split into early and late.\n",
    "    idx80 = lv_idx_for_refill80_full(volumes)\n",
    "    \n",
    "    diastolic_early_up_slopes = slopes[esi:idx80]\n",
    "    diastolic_late_up_slopes = slopes[idx80:]\n",
    "    idx_early = diastolic_early_up_slopes.argmax() + esi\n",
    "    idx_late = diastolic_late_up_slopes.argmax() + idx80\n",
    "    \n",
    "    return idx_early, idx_late\n",
    "\n",
    "def la_es_index(volumes):\n",
    "    return np.argmax(volumes)\n",
    "\n",
    "def la_split_at_es(volumes):\n",
    "    es = la_es_index(volumes)\n",
    "    return volumes[:es], volumes[es:]\n",
    "\n",
    "def la_vol_at_es(volumes):\n",
    "    return volumes[la_es_index(volumes)]\n",
    "\n",
    "def la_vol_at_es(volumes, es):\n",
    "    return volumes[es]\n",
    "\n",
    "def la_vol_at_ss(volumes):\n",
    "    return volumes[0]\n",
    "\n",
    "def la_vol_at_ed(volumes):\n",
    "    return volumes[-1]\n",
    "\n",
    "def la_idx_max_systolic_up_slope(volumes, slopes):\n",
    "    esi = la_es_index(volumes)\n",
    "    systolic_down_slopes = slopes[:esi]\n",
    "    return systolic_down_slopes.argmax()\n",
    "\n",
    "def la_idx_max_emptying_slopes(volumes, slopes):\n",
    "    esi = la_es_index(volumes)\n",
    "\n",
    "    # need to further split into early and late.\n",
    "    idxsplit = esi + (len(volumes) - esi) // 2\n",
    "    \n",
    "    diastolic_early_up_slopes = -slopes[esi:idxsplit]\n",
    "    diastolic_late_up_slopes = -slopes[idxsplit:]\n",
    "    idx_early = diastolic_early_up_slopes.argmax() + esi\n",
    "    idx_late = diastolic_late_up_slopes.argmax() + idxsplit\n",
    "    \n",
    "    return idx_early, idx_late\n"
   ]
  },
  {
   "cell_type": "code",
   "execution_count": null,
   "metadata": {
    "collapsed": false
   },
   "outputs": [],
   "source": [
    "def lv_params(patient, region='LV'):\n",
    "    units, time_units = 'ml', 'ms'\n",
    "    patient_name = patient.pat_name\n",
    "    \n",
    "    volume_series = patient[region]\n",
    "    time = np.asarray(volume_series.index)\n",
    "    volume = np.asarray(volume_series.values) \n",
    "    diffs = np.gradient(volume) / np.diff(time)[0]\n",
    "    r_to_r = time[-1]\n",
    "    sg_volume     = savgol_filter(x=volume, window_length=5, polyorder=2, mode='interp')\n",
    "    dt_msecs      = np.mean(np.diff(time))\n",
    "    # one order higher for the derivative sounds right .. increase window to match\n",
    "    sg_derivative = savgol_filter(x=volume, window_length=7, polyorder=3, deriv=1, delta=dt_msecs)\n",
    "\n",
    "    spline = InterpolatedUnivariateSpline(time, sg_volume)\n",
    "    spline_deriv = InterpolatedUnivariateSpline(time, sg_derivative)\n",
    "\n",
    "    interpolated_time   = np.linspace(0, time[-1], len(time)*3)\n",
    "    interpolated_savgol = spline(interpolated_time)\n",
    "    interpolated_deriv  = spline_deriv(interpolated_time)\n",
    "\n",
    "    min_vol_index = lv_es_index(interpolated_savgol)\n",
    "    min_vol_time  = interpolated_time[min_vol_index]\n",
    "    min_volume    = interpolated_savgol[min_vol_index]\n",
    "    eighty_percent_idx = lv_idx_for_refill80_full(interpolated_savgol)\n",
    "    eighty_percent_time = interpolated_time[eighty_percent_idx]\n",
    "    eighty_percent_vol = interpolated_savgol[eighty_percent_idx]\n",
    "\n",
    "    max_emptying_index = lv_idx_max_systolic_down_slope(interpolated_savgol, interpolated_deriv)\n",
    "    max_emptying_time = interpolated_time[max_emptying_index]\n",
    "    max_emptying_vol = interpolated_savgol[max_emptying_index]\n",
    "    max_emptying_slope = interpolated_deriv[max_emptying_index]\n",
    "\n",
    "    max_early_filling_index, max_late_filling_index = lv_idx_max_recovery_slopes(interpolated_savgol, interpolated_deriv)\n",
    "    max_early_filling_time = interpolated_time[max_early_filling_index]\n",
    "    max_late_filling_time = interpolated_time[max_late_filling_index]\n",
    "\n",
    "    max_early_filling_vol = interpolated_savgol[max_early_filling_index]\n",
    "    max_late_filling_vol = interpolated_savgol[max_late_filling_index]\n",
    "\n",
    "    max_early_filling_slope = interpolated_deriv[max_early_filling_index]    \n",
    "    max_late_filling_slope = interpolated_deriv[max_late_filling_index]    \n",
    "    diastolic_time = r_to_r - min_vol_time\n",
    "    \n",
    "    return OrderedDict([\n",
    "        ('LV_time_end_systole', min_vol_time),\n",
    "        ('LV_peak_ejection_ml_sec', (-1000 *max_emptying_slope)),\n",
    "        ('LV_time_peak_ejection',  max_emptying_time),\n",
    "        ('LV_vol_peak_ejection', max_emptying_vol),\n",
    "        ('LV_early_peak_filling_ml_sec', (1000 *max_early_filling_slope)),\n",
    "        ('LV_time_early_peak_filling', (max_early_filling_time - min_vol_time)),\n",
    "        ('LV_vol_early_peak_filling', max_early_filling_vol),\n",
    "        ('LV_late_peak_filling_ml_sec', (1000 *max_late_filling_slope)),\n",
    "        ('LV_time_late_peak_filling', (max_late_filling_time - min_vol_time)),\n",
    "        ('LV_vol_late_peak_filling', max_late_filling_vol),\n",
    "        ('LV_time_fill80', (eighty_percent_time - min_vol_time)),\n",
    "        ('LV_ratio_fill80', (eighty_percent_time - min_vol_time) / diastolic_time)\n",
    "   ])\n"
   ]
  },
  {
   "cell_type": "code",
   "execution_count": null,
   "metadata": {
    "collapsed": false
   },
   "outputs": [],
   "source": [
    "params178 = lv_params(patients[178])"
   ]
  },
  {
   "cell_type": "code",
   "execution_count": null,
   "metadata": {
    "collapsed": true
   },
   "outputs": [],
   "source": [
    "def la_params(patient, region='LA'):\n",
    "    units, time_units = 'ml', 'ms'\n",
    "    patient_name = patient.pat_name\n",
    "    \n",
    "    volume_series = patient[region]\n",
    "    time = np.asarray(volume_series.index)\n",
    "    volume = np.asarray(volume_series.values) \n",
    "    diffs = np.gradient(volume) / np.diff(time)[0]\n",
    "    r_to_r = time[-1]\n",
    "    sg_volume     = savgol_filter(x=volume, window_length=5, polyorder=2, mode='interp')\n",
    "    dt_msecs      = np.mean(np.diff(time))\n",
    "    # one order higher for the derivative sounds right .. increase window to match\n",
    "    sg_derivative = savgol_filter(x=volume, window_length=7, polyorder=3, deriv=1, mode='interp', delta=dt_msecs)\n",
    "\n",
    "    spline = InterpolatedUnivariateSpline(time, sg_volume)\n",
    "    spline_deriv = InterpolatedUnivariateSpline(time, sg_derivative)\n",
    "\n",
    "    interpolated_time   = np.linspace(0, time[-1], len(time)*3)\n",
    "    interpolated_savgol = spline(interpolated_time)\n",
    "    interpolated_deriv  = spline_deriv(interpolated_time)\n",
    "\n",
    "    max_vol_index = la_es_index(interpolated_savgol)\n",
    "    max_vol_time  = interpolated_time[max_vol_index]\n",
    "    max_volume    = interpolated_savgol[max_vol_index]\n",
    "\n",
    "    max_filling_index = la_idx_max_systolic_up_slope(interpolated_savgol, interpolated_deriv)\n",
    "    max_filling_time = interpolated_time[max_filling_index]\n",
    "    max_filling_vol = interpolated_savgol[max_filling_index]\n",
    "    max_filling_slope = interpolated_deriv[max_filling_index]\n",
    "    \n",
    "    max_early_emptying_index, max_late_emptying_index = la_idx_max_emptying_slopes(interpolated_savgol, interpolated_deriv)\n",
    "\n",
    "    max_early_emptying_time = interpolated_time[max_early_emptying_index]\n",
    "    max_early_emptying_vol = interpolated_savgol[max_early_emptying_index]\n",
    "    max_early_emptying_slope = interpolated_deriv[max_early_emptying_index]    \n",
    "\n",
    "    max_late_emptying_time = interpolated_time[max_late_emptying_index]\n",
    "    max_late_emptying_vol = interpolated_savgol[max_late_emptying_index]\n",
    "    max_late_emptying_slope = interpolated_deriv[max_late_emptying_index]    \n",
    "\n",
    "    return OrderedDict([\n",
    "        ('LA_time_end_systole', max_vol_time),\n",
    "        ('LA_peak_filling_ml_sec', (1000 * max_filling_slope)),\n",
    "        ('LA_time_peak_filling', max_filling_time),\n",
    "        ('LA_vol_peak_filling', max_filling_vol),\n",
    "        ('LA_early_peak_emptying_ml_sec', (-1000 *max_early_emptying_slope)),\n",
    "        ('LA_time_early_peak_emptying', (max_early_emptying_time - max_vol_time)),\n",
    "        ('LA_vol_early_peak_emptying', max_early_emptying_vol),\n",
    "        ('LA_late_peak_emptying_ml_sec', (-1000 *max_late_emptying_slope)),\n",
    "        ('LA_time_late_peak_emptying', (max_late_emptying_time - max_vol_time)),\n",
    "        ('LA_vol_late_peak_emptying', max_late_emptying_vol),\n",
    "    ])"
   ]
  },
  {
   "cell_type": "code",
   "execution_count": null,
   "metadata": {
    "collapsed": false
   },
   "outputs": [],
   "source": [
    "params178.update(la_params(patients[178]))"
   ]
  },
  {
   "cell_type": "code",
   "execution_count": null,
   "metadata": {
    "collapsed": false
   },
   "outputs": [],
   "source": [
    "def all_params(patient):\n",
    "    params =lv_params(patient)\n",
    "    params.update(la_params(patient))\n",
    "    return params\n",
    "\n",
    "results = {k: all_params(p) for (k, p) in patients.items()}"
   ]
  },
  {
   "cell_type": "code",
   "execution_count": null,
   "metadata": {
    "collapsed": false,
    "scrolled": true
   },
   "outputs": [],
   "source": [
    "df_results = pd.DataFrame(results).T\n",
    "df_results.insert(0, 'RR_ms', df_times['RR_ms'])\n",
    "df_results.head(20).T"
   ]
  },
  {
   "cell_type": "markdown",
   "metadata": {},
   "source": [
    "We need some quality control - some values are dubious here: eg 182, 192, 209 ..."
   ]
  },
  {
   "cell_type": "markdown",
   "metadata": {},
   "source": [
    " - 182\n",
    "   - LV\n",
    "     - fails to recover to 80%\n",
    "     - misses early filling as as later is steeper\n",
    "   - LA\n",
    "     - missidentifies ES as second peak higher\n",
    "     - final slope down too steep as seems just at final point (edge behaviour of SG?)"
   ]
  },
  {
   "cell_type": "markdown",
   "metadata": {},
   "source": [
    "- Need something better to distinguish early and late phases ...\n",
    "  - could get multiple peaks with some sort of peak finder and choose two highest\n",
    "  - will need some sort of robust peak finder ...."
   ]
  },
  {
   "cell_type": "code",
   "execution_count": null,
   "metadata": {
    "collapsed": false
   },
   "outputs": [],
   "source": [
    "df_results[df_results['LV_ratio_fill80'] > 0.95]"
   ]
  },
  {
   "cell_type": "code",
   "execution_count": null,
   "metadata": {
    "collapsed": true
   },
   "outputs": [],
   "source": []
  },
  {
   "cell_type": "code",
   "execution_count": null,
   "metadata": {
    "collapsed": true
   },
   "outputs": [],
   "source": []
  },
  {
   "cell_type": "code",
   "execution_count": null,
   "metadata": {
    "collapsed": true
   },
   "outputs": [],
   "source": []
  }
 ],
 "metadata": {
  "anaconda-cloud": {},
  "kernelspec": {
   "display_name": "Python [default]",
   "language": "python",
   "name": "python2"
  },
  "language_info": {
   "codemirror_mode": {
    "name": "ipython",
    "version": 2
   },
   "file_extension": ".py",
   "mimetype": "text/x-python",
   "name": "python",
   "nbconvert_exporter": "python",
   "pygments_lexer": "ipython2",
   "version": "2.7.12"
  }
 },
 "nbformat": 4,
 "nbformat_minor": 1
}
