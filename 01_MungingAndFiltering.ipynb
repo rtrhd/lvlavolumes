{
 "cells": [
  {
   "cell_type": "markdown",
   "metadata": {},
   "source": [
    "## Pull out data from spreadsheets"
   ]
  },
  {
   "cell_type": "code",
   "execution_count": null,
   "metadata": {
    "collapsed": false
   },
   "outputs": [],
   "source": [
    "from __future__ import division, print_function\n",
    "\n",
    "%matplotlib inline\n",
    "import matplotlib.pyplot as plt\n",
    "import seaborn as sns\n",
    "import numpy as np\n",
    "import pandas as pd"
   ]
  },
  {
   "cell_type": "markdown",
   "metadata": {},
   "source": [
    "We are interested in the following metrics:\n",
    " - LV: time of end systole.\n",
    " - LV: time and magnitude of peak systolic emptying\n",
    " - LV: time and magnitude of peak diastolic filling rate\n",
    " - LV: time and magnitude of secondary filling (if possible)\n",
    " - LV: 80% refilling time both in ms and as fraction of diastolic time\n",
    " - LA: time and magnitude of max filling rate\n",
    " - LA: time and magnitude of early max emptying rate\n",
    " - LA: time and magnitude of late max emptying rate (if possible)\n",
    "\n",
    "Final dataframe should be tidy (indexed by patient, columns are parameters). "
   ]
  },
  {
   "cell_type": "code",
   "execution_count": null,
   "metadata": {
    "collapsed": false
   },
   "outputs": [],
   "source": [
    "volumes = 'FullVolumes.xlsx'\n",
    "rrintervals = 'RRIntervals.xlsx'\n",
    "\n",
    "df_vols = pd.read_excel(volumes)\n",
    "df_rrintervals = pd.read_excel(rrintervals).reset_index(drop=True)\n",
    "df_rrintervals.index = ['RR']\n",
    "\n",
    "df_la = df_vols.filter(regex='LA-[0-9]{3,3}$')\n",
    "df_lv = df_vols.filter(regex='LV-[0-9]{3,3}$')\n",
    "df_times = df_rrintervals.filter(regex='LV-[0-9]{3,3}$').T"
   ]
  },
  {
   "cell_type": "code",
   "execution_count": null,
   "metadata": {
    "collapsed": false
   },
   "outputs": [],
   "source": [
    "df_lv.head()"
   ]
  },
  {
   "cell_type": "code",
   "execution_count": null,
   "metadata": {
    "collapsed": false
   },
   "outputs": [],
   "source": [
    "df_times.head()"
   ]
  },
  {
   "cell_type": "markdown",
   "metadata": {},
   "source": [
    "Ouch, gets a bit messy. Once we multiply by the rr interval then the time base is no longer constant across subjects. We could maybe work in phases and rescale to the cardiac cycle afterwards or we could handle each subject separately."
   ]
  },
  {
   "cell_type": "code",
   "execution_count": null,
   "metadata": {
    "collapsed": false
   },
   "outputs": [],
   "source": [
    "nrows = df_la.count(axis=0)[0]\n",
    "assert all(df_la.count(axis=0) == nrows)\n",
    "\n",
    "df_times['dT'] = df_times['RR'] / nrows\n",
    "df_times.head()"
   ]
  },
  {
   "cell_type": "code",
   "execution_count": null,
   "metadata": {
    "collapsed": false
   },
   "outputs": [],
   "source": [
    "patnos = [int(col[-3:]) for col in df_la]\n",
    "len(patnos)"
   ]
  },
  {
   "cell_type": "markdown",
   "metadata": {},
   "source": [
    "We can pack the data into a dictionary of data frames indexed by patient with columns for LV and LA volumes."
   ]
  },
  {
   "cell_type": "code",
   "execution_count": null,
   "metadata": {
    "collapsed": false
   },
   "outputs": [],
   "source": [
    "patients = {}\n",
    "for patno in patnos:\n",
    "    patients[patno] = pd.concat([\n",
    "        pd.Series(np.arange(nrows) * df_times['dT']['LV-%d' % patno], name='Time'),\n",
    "        df_lv['LV-%d' % patno],\n",
    "        df_la['LA-%d' % patno],\n",
    "    ], axis=1).set_index('Time')\n",
    "    patients[patno].columns = ('LV', 'LA')\n",
    "    patients[patno].pat_name = 'Patient %d' % patno\n",
    "len(patients)"
   ]
  },
  {
   "cell_type": "code",
   "execution_count": null,
   "metadata": {
    "collapsed": false
   },
   "outputs": [],
   "source": [
    "patients[178].head()"
   ]
  },
  {
   "cell_type": "code",
   "execution_count": null,
   "metadata": {
    "collapsed": false
   },
   "outputs": [],
   "source": [
    "lv_volume_series = patients[178]['LV']\n",
    "lv_volume_series.plot();"
   ]
  },
  {
   "cell_type": "markdown",
   "metadata": {},
   "source": [
    "We need to apply some filtering - we can compare Savitzy-Golay filtering or loess fitting. "
   ]
  },
  {
   "cell_type": "code",
   "execution_count": null,
   "metadata": {
    "collapsed": false
   },
   "outputs": [],
   "source": [
    "from scipy.signal import savgol_filter\n",
    "\n",
    "def plot_vols_sav_gol(patient, region):\n",
    "\n",
    "    units, time_units = 'ml', 'ms'\n",
    "    patient_name = patient.pat_name\n",
    "    \n",
    "    volume_series = patient[region]\n",
    "    time = np.asarray(volume_series.index)\n",
    "    volume = np.asarray(volume_series.values)    \n",
    "    r_to_r = time[-1]\n",
    "    \n",
    "    sg_volume     = savgol_filter(x=volume, window_length=5, polyorder=2, mode='interp')\n",
    "    dt_secs       = np.mean(np.diff(time)) / 1000\n",
    "    derivative    = np.gradient(volume, dt_secs)\n",
    "    sg_derivative = savgol_filter(x=volume, window_length=5, polyorder=2, deriv=1, delta=dt_secs)\n",
    "\n",
    "    min_volume    = np.amin(sg_volume)\n",
    "    max_volume    = np.mean([np.amax(sg_volume[:5]), np.amax(sg_volume[-5:])])\n",
    "    max_gradient  = np.amax(sg_derivative)\n",
    "\n",
    "    min_vol_time  = time[np.argmin(sg_volume)]\n",
    "\n",
    "    fig, ax = plt.subplots(1, 2, figsize=(12, 4))\n",
    "    ax[0].plot(time, volume, '.')\n",
    "    ax[0].plot(time, sg_volume, '-')\n",
    "    ax[0].grid(True)\n",
    "    ax[0].set_xlabel('Delay from Trigger (%s)' % time_units)\n",
    "    ax[0].set_ylabel('Volume (%s)' % units)\n",
    "    ax[0].text(500, 50, 'RR interval %3.0f ms' % r_to_r)\n",
    "    ax[0].axhline(y=min_volume, linestyle='-.')\n",
    "    ax[0].axvline(x=min_vol_time, linestyle='-.')\n",
    "    ax[0].set_title('Volume')\n",
    "\n",
    "    ax[1].plot(time, derivative, '.')\n",
    "    ax[1].plot(time, sg_derivative, '-')\n",
    "    ax[1].grid(True)\n",
    "    ax[1].set_xlabel('Delay from Trigger (%s)' % time_units)\n",
    "    ax[1].set_ylabel('Gradient (%s/sec)' % units)\n",
    "    ax[1].text(500, -200, 'RR interval %3.0f ms' % r_to_r)\n",
    "    ax[1].axvline(x=min_vol_time, linestyle='-.')\n",
    "    ax[1].set_title('Gradient')\n",
    "\n",
    "    fig.suptitle('%s (%s Volume)' % (patient_name, region), fontsize=14)\n",
    "\n",
    "    plt.show()\n",
    "\n",
    "    print('Minimum Volume                   = %4.0f ml'     % min_volume)\n",
    "    print('Maximum Volume Estimate          = %4.0f ml'     % max_volume)\n",
    "    print('Maximum Rate of change of Volume = %4.0f ml/sec' % max_gradient)\n"
   ]
  },
  {
   "cell_type": "code",
   "execution_count": null,
   "metadata": {
    "collapsed": false
   },
   "outputs": [],
   "source": [
    "plot_vols_sav_gol(patient=patients[178], region='LV')"
   ]
  },
  {
   "cell_type": "code",
   "execution_count": null,
   "metadata": {
    "collapsed": false
   },
   "outputs": [],
   "source": [
    "plot_vols_sav_gol(patient=patients[178], region='LA')"
   ]
  },
  {
   "cell_type": "markdown",
   "metadata": {},
   "source": [
    "Note the LA curves the senses will reversed - we want to find the maximum etc.\n",
    "Also, if we use sav/gol we really want to get the gradient directly from the fit - the unsmoothed discrete differences won't be very meaningful due to the large noise amplification."
   ]
  },
  {
   "cell_type": "code",
   "execution_count": null,
   "metadata": {
    "collapsed": false
   },
   "outputs": [],
   "source": [
    "from statsmodels.nonparametric.smoothers_lowess import lowess\n",
    "\n",
    "def plot_vols_lowess(patient, region):\n",
    "\n",
    "    units, time_units = 'ml', 'ms'\n",
    "    patient_name = patient.pat_name\n",
    "    \n",
    "    volume_series = patient[region]\n",
    "    time = np.asarray(volume_series.index)\n",
    "    volume = np.asarray(volume_series.values) \n",
    "    dt_secs = np.mean(np.diff(time)) / 1000\n",
    "    r_to_r = time[-1]\n",
    "    lowess_volume     = lowess(volume, time, frac=0.2).T[1]\n",
    "    derivative        = np.gradient(volume, dt_secs)\n",
    "    lowess_derivative = np.gradient(lowess_volume, dt_secs)\n",
    "\n",
    "    min_volume    = np.amin(lowess_volume)\n",
    "    max_volume    = np.mean([np.amax(lowess_volume[:5]), np.amax(lowess_volume[-5:])])\n",
    "    max_gradient  = np.amax(lowess_derivative)\n",
    "\n",
    "    min_vol_time  = time[np.argmin(lowess_volume)]\n",
    "\n",
    "\n",
    "    fig, ax = plt.subplots(1, 2, figsize=(12, 4))\n",
    "    ax[0].plot(time, volume, '.')\n",
    "    ax[0].plot(time, lowess_volume, '-')\n",
    "    ax[0].grid(True)\n",
    "    ax[0].set_xlabel('Delay from Trigger (%s)' % time_units)\n",
    "    ax[0].set_ylabel('Volume (%s)' % units)\n",
    "    ax[0].text(500, 50, 'RR interval %3.0f ms' % r_to_r)\n",
    "    ax[0].axhline(y=min_volume, linestyle='-.')\n",
    "    ax[0].axvline(x=min_vol_time, linestyle='-.')\n",
    "    ax[0].set_title('Volume')\n",
    "\n",
    "    ax[1].plot(time, derivative, '.')\n",
    "    ax[1].plot(time, lowess_derivative, '-')\n",
    "    ax[1].grid(True)\n",
    "    ax[1].set_xlabel('Delay from Trigger (%s)' % time_units)\n",
    "    ax[1].set_ylabel('Gradient (%s/sec)' % units)\n",
    "    ax[1].text(500, -200, 'RR interval %3.0f ms' % r_to_r)\n",
    "    ax[1].axvline(x=min_vol_time, linestyle='-.')\n",
    "\n",
    "    fig.suptitle('%s (LV %s Volume)' % (patient_name, region), fontsize=14)\n",
    "\n",
    "    plt.show()\n",
    "\n",
    "    print('Minimum Volume                   = %4.0f ml'     % min_volume)\n",
    "    print('Maximum Volume Estimate          = %4.0f ml'     % max_volume)\n",
    "    print('Maximum Rate of change of Volume = %4.0f ml/sec' % max_gradient)"
   ]
  },
  {
   "cell_type": "code",
   "execution_count": null,
   "metadata": {
    "collapsed": false
   },
   "outputs": [],
   "source": [
    "plot_vols_lowess(patient=patients[178], region='LV')"
   ]
  },
  {
   "cell_type": "code",
   "execution_count": null,
   "metadata": {
    "collapsed": false
   },
   "outputs": [],
   "source": [
    "plot_vols_lowess(patient=patients[178], region='LA')"
   ]
  },
  {
   "cell_type": "markdown",
   "metadata": {},
   "source": [
    "We'll go with the S-G filtering as this seems to produce a cleaner derivative. For the identification of features in the curve we'll do some additional interpolation in the smooth SG curve. The problem with lowess derivative is that we are just taking a finite difference rather than fitting a smooth curve. With S-G we can extract a smooth derivative directly but on the other hand we don't get the outlier rejection of loess. Ultimately, it depends on whether the non-smoothness in the curves is random noise/jitter or contammination with outliers."
   ]
  },
  {
   "cell_type": "code",
   "execution_count": null,
   "metadata": {
    "collapsed": false
   },
   "outputs": [],
   "source": [
    "from scipy.interpolate import InterpolatedUnivariateSpline\n",
    "\n",
    "def plot_la_params(patient, region='LA'):\n",
    "    units, time_units = 'ml', 'ms'\n",
    "    patient_name = patient.pat_name\n",
    "    \n",
    "    volume_series = patient[region]\n",
    "    time = np.asarray(volume_series.index)\n",
    "    volume = np.asarray(volume_series.values) \n",
    "\n",
    "    r_to_r = time[-1]\n",
    "\n",
    "    sg_volume     = savgol_filter(x=volume, window_length=5, polyorder=2, mode='interp')\n",
    "    dt_secs       = np.mean(np.diff(time)) / 1000\n",
    "    derivative    = np.gradient(volume, dt_secs)\n",
    "    sg_derivative = savgol_filter(x=volume, window_length=5, polyorder=2, deriv=1, delta=dt_secs)    \n",
    "    \n",
    "    spline = InterpolatedUnivariateSpline(time, sg_volume)\n",
    "\n",
    "    interpolated_time   = np.linspace(0, time[-1], len(time)*3)\n",
    "    interpolated_savgol = spline(interpolated_time)\n",
    "\n",
    "    max_volume    = np.amax(interpolated_savgol)\n",
    "    min_volume    = np.mean([np.amin(interpolated_savgol[:15]), np.amin(interpolated_savgol[-15:])])\n",
    "    max_vol_time  = interpolated_time[np.argmax(interpolated_savgol)]\n",
    "\n",
    "    def find_idx_nearest(array, value):\n",
    "        return np.abs(array-value).argmin()\n",
    "\n",
    "    fig, ax = plt.subplots(1, 1, figsize=(9, 6))\n",
    "    ax.plot(time, volume, '.')\n",
    "    ax.plot(interpolated_time, interpolated_savgol, '-')\n",
    "    ax.grid(True)\n",
    "    ax.set_xlabel('Delay from Trigger (%s)' % time_units)\n",
    "    ax.set_ylabel('Volume (%s)' % units)\n",
    "    ax.text(500, 60, 'RR interval %3.0f ms' % r_to_r)\n",
    "    ax.axhline(y=min_volume, linestyle='-.')\n",
    "    ax.axhline(y=max_volume, linestyle='-.')\n",
    "    ax.axhline(y=0.2*max_volume + 0.8*max_volume, linestyle='-.')\n",
    "    ax.axvline(x=max_vol_time, linestyle='-.')\n",
    "\n",
    "    fig.suptitle('%s (%s Volume)' % (patient_name, region), fontsize=14)\n",
    "\n",
    "    plt.show()\n",
    "\n",
    "    print('Time of max. volume = %3.0f ms' % max_vol_time)\n",
    "    print('R-R interval        = %3.0f ms' % r_to_r)\n"
   ]
  },
  {
   "cell_type": "code",
   "execution_count": null,
   "metadata": {
    "collapsed": false
   },
   "outputs": [],
   "source": [
    "plot_la_params(patient=patients[178])"
   ]
  },
  {
   "cell_type": "code",
   "execution_count": null,
   "metadata": {
    "collapsed": true
   },
   "outputs": [],
   "source": [
    "def plot_lv_params(patient, region='LV'):\n",
    "    units, time_units = 'ml', 'ms'\n",
    "    patient_name = patient.pat_name\n",
    "    \n",
    "    volume_series = patient[region]\n",
    "    time = np.asarray(volume_series.index)\n",
    "    volume = np.asarray(volume_series.values) \n",
    "\n",
    "    r_to_r = time[-1]\n",
    "    sg_volume     = savgol_filter(x=volume, window_length=5, polyorder=2, mode='interp')\n",
    "    dt_secs       = np.mean(np.diff(time)) / 1000\n",
    "    derivative    = np.gradient(volume, dt_secs)\n",
    "    sg_derivative = savgol_filter(x=volume, window_length=5, polyorder=2, deriv=1, delta=dt_secs)\n",
    "\n",
    "    spline = InterpolatedUnivariateSpline(time, sg_volume)\n",
    "\n",
    "    interpolated_time   = np.linspace(0, time[-1], len(time)*3)\n",
    "    interpolated_savgol = spline(interpolated_time)\n",
    "\n",
    "    min_volume    = np.amin(interpolated_savgol)\n",
    "    max_volume    = np.mean([np.amax(interpolated_savgol[:10]), np.amax(interpolated_savgol[-10:])])\n",
    "    min_vol_index = np.argmin(interpolated_savgol)\n",
    "    min_vol_time  = interpolated_time[min_vol_index]\n",
    "\n",
    "    def find_idx_nearest(array, value, after=0):\n",
    "        return np.abs(array[after:]-value).argmin() + after\n",
    "\n",
    "    eighty_per_cent_time = interpolated_time[\n",
    "        find_idx_nearest(interpolated_savgol, 0.2*min_volume + 0.8*max_volume, after=min_vol_index)\n",
    "    ]\n",
    "\n",
    "    fig, ax = plt.subplots(1, 1, figsize=(9, 6))\n",
    "    ax.plot(time, volume, '.')\n",
    "    ax.plot(interpolated_time, interpolated_savgol, '-')\n",
    "    ax.grid(True)\n",
    "    ax.set_xlabel('Delay from Trigger (%s)' % time_units)\n",
    "    ax.set_ylabel('Volume (%s)' % units)\n",
    "    ax.text(500, 60, 'RR interval %3.0f ms' % r_to_r)\n",
    "    ax.axhline(y=min_volume, linestyle='-.')\n",
    "    ax.axhline(y=max_volume, linestyle='-.')\n",
    "    ax.axhline(y=0.2*min_volume + 0.8*max_volume, linestyle='-.')\n",
    "    ax.axvline(x=min_vol_time, linestyle='-.')\n",
    "    ax.axvline(x=eighty_per_cent_time, linestyle='-.')\n",
    "\n",
    "    fig.suptitle('%s (%s Volume)' % (patient_name, region), fontsize=14)\n",
    "\n",
    "    plt.show()\n",
    "\n",
    "    print('Time of min. volume = %3.0f ms' % min_vol_time)\n",
    "    print('Time of 80%% filling = %3.0f ms' % eighty_per_cent_time)\n",
    "    print('Time difference     = %3.0f ms' % (eighty_per_cent_time - min_vol_time))\n",
    "    print('R-R interval        = %3.0f ms' % r_to_r)\n",
    "    print('Filling time ratio  = %0.3f' % ((eighty_per_cent_time - min_vol_time)/r_to_r))"
   ]
  },
  {
   "cell_type": "code",
   "execution_count": null,
   "metadata": {
    "collapsed": false
   },
   "outputs": [],
   "source": [
    "plot_lv_params(patient=patients[178])"
   ]
  }
 ],
 "metadata": {
  "anaconda-cloud": {},
  "kernelspec": {
   "display_name": "Python [default]",
   "language": "python",
   "name": "python2"
  },
  "language_info": {
   "codemirror_mode": {
    "name": "ipython",
    "version": 2
   },
   "file_extension": ".py",
   "mimetype": "text/x-python",
   "name": "python",
   "nbconvert_exporter": "python",
   "pygments_lexer": "ipython2",
   "version": "2.7.12"
  }
 },
 "nbformat": 4,
 "nbformat_minor": 1
}
